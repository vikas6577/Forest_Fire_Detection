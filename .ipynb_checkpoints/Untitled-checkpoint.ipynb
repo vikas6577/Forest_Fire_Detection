{
 "cells": [
  {
   "cell_type": "code",
   "execution_count": 1,
   "id": "33989ef8",
   "metadata": {},
   "outputs": [],
   "source": [
    "import tensorflow as tf\n",
    "import keras_preprocessing\n",
    "from keras_preprocessing import image\n",
    "from keras_preprocessing.image import ImageDataGenerator\n",
    "import shutil\n"
   ]
  },
  {
   "cell_type": "code",
   "execution_count": 2,
   "id": "2d87e084",
   "metadata": {},
   "outputs": [
    {
     "name": "stdout",
     "output_type": "stream",
     "text": [
      "Found 980 images belonging to 2 classes.\n",
      "Found 239 images belonging to 2 classes.\n"
     ]
    }
   ],
   "source": [
    "TRAINING_DIR = \"Datasets 1-2\\Training\"\n",
    "\n",
    "training_datagen = ImageDataGenerator(rescale = 1./255,\n",
    "                                      horizontal_flip=True,\n",
    "\t\t\t\t\t\t\t\t\t  rotation_range=30,\n",
    "\t\t\t\t\t\t\t\t\t  height_shift_range=0.2,\n",
    "                                      fill_mode='nearest')\n",
    "\t\t\t\t\t\t\t\t\t\n",
    "VALIDATION_DIR = \"Datasets 1-2\\Validation\"\n",
    "validation_datagen = ImageDataGenerator(rescale = 1./255)\n",
    "\n",
    "train_generator = training_datagen.flow_from_directory(\n",
    "\tTRAINING_DIR,\n",
    "\ttarget_size=(224,224),\n",
    "\tclass_mode='categorical',\n",
    "  batch_size = 64\n",
    ")\n",
    "\n",
    "validation_generator = validation_datagen.flow_from_directory(\n",
    "\tVALIDATION_DIR,\n",
    "\ttarget_size=(224,224),\n",
    "\tclass_mode='categorical',\n",
    "  batch_size= 16\n",
    ")"
   ]
  },
  {
   "cell_type": "code",
   "execution_count": 3,
   "id": "960116ea",
   "metadata": {},
   "outputs": [
    {
     "name": "stdout",
     "output_type": "stream",
     "text": [
      "Model: \"sequential\"\n",
      "_________________________________________________________________\n",
      " Layer (type)                Output Shape              Param #   \n",
      "=================================================================\n",
      " conv2d (Conv2D)             (None, 54, 54, 96)        34944     \n",
      "                                                                 \n",
      " max_pooling2d (MaxPooling2D  (None, 26, 26, 96)       0         \n",
      " )                                                               \n",
      "                                                                 \n",
      " conv2d_1 (Conv2D)           (None, 22, 22, 256)       614656    \n",
      "                                                                 \n",
      " max_pooling2d_1 (MaxPooling  (None, 10, 10, 256)      0         \n",
      " 2D)                                                             \n",
      "                                                                 \n",
      " conv2d_2 (Conv2D)           (None, 6, 6, 384)         2457984   \n",
      "                                                                 \n",
      " max_pooling2d_2 (MaxPooling  (None, 2, 2, 384)        0         \n",
      " 2D)                                                             \n",
      "                                                                 \n",
      " flatten (Flatten)           (None, 1536)              0         \n",
      "                                                                 \n",
      " dropout (Dropout)           (None, 1536)              0         \n",
      "                                                                 \n",
      " dense (Dense)               (None, 2048)              3147776   \n",
      "                                                                 \n",
      " dropout_1 (Dropout)         (None, 2048)              0         \n",
      "                                                                 \n",
      " dense_1 (Dense)             (None, 1024)              2098176   \n",
      "                                                                 \n",
      " dropout_2 (Dropout)         (None, 1024)              0         \n",
      "                                                                 \n",
      " dense_2 (Dense)             (None, 2)                 2050      \n",
      "                                                                 \n",
      "=================================================================\n",
      "Total params: 8,355,586\n",
      "Trainable params: 8,355,586\n",
      "Non-trainable params: 0\n",
      "_________________________________________________________________\n"
     ]
    }
   ],
   "source": [
    "from tensorflow.keras.optimizers import RMSprop,Adam\n",
    "model = tf.keras.models.Sequential([\n",
    "          tf.keras.layers.Conv2D(96, (11,11), strides=(4,4), activation='relu', input_shape=(224, 224, 3)),\n",
    "          tf.keras.layers.MaxPooling2D(pool_size = (3,3), strides=(2,2)),\n",
    "          tf.keras.layers.Conv2D(256, (5,5), activation='relu'),\n",
    "          tf.keras.layers.MaxPooling2D(pool_size = (3,3), strides=(2,2)),\n",
    "          tf.keras.layers.Conv2D(384, (5,5), activation='relu'),\n",
    "          tf.keras.layers.MaxPooling2D(pool_size = (3,3), strides=(2,2)),\n",
    "          tf.keras.layers.Flatten(),\n",
    "          tf.keras.layers.Dropout(0.2),\n",
    "          tf.keras.layers.Dense(2048, activation='relu'),\n",
    "          tf.keras.layers.Dropout(0.25),\n",
    "          tf.keras.layers.Dense(1024, activation='relu'),\n",
    "          tf.keras.layers.Dropout(0.2),\n",
    "          tf.keras.layers.Dense(2, activation='softmax')\n",
    "])\n",
    "model.compile(loss='categorical_crossentropy',\n",
    "              optimizer=Adam(learning_rate=0.0001),\n",
    "              metrics=['acc'])\n",
    "model.summary()"
   ]
  },
  {
   "cell_type": "code",
   "execution_count": 8,
   "id": "32c84c7c",
   "metadata": {},
   "outputs": [
    {
     "name": "stdout",
     "output_type": "stream",
     "text": [
      "Epoch 1/50\n",
      "15/15 [==============================] - 98s 6s/step - loss: 0.5559 - acc: 0.7085 - val_loss: 0.4183 - val_acc: 0.7657\n",
      "Epoch 2/50\n",
      "15/15 [==============================] - 100s 7s/step - loss: 0.3636 - acc: 0.8439 - val_loss: 0.3281 - val_acc: 0.8996\n",
      "Epoch 3/50\n",
      "15/15 [==============================] - 83s 5s/step - loss: 0.3318 - acc: 0.8581 - val_loss: 0.2608 - val_acc: 0.9247\n",
      "Epoch 4/50\n",
      "15/15 [==============================] - 84s 6s/step - loss: 0.2818 - acc: 0.8963 - val_loss: 0.2517 - val_acc: 0.9205\n",
      "Epoch 5/50\n",
      "15/15 [==============================] - 84s 6s/step - loss: 0.2342 - acc: 0.9083 - val_loss: 0.2049 - val_acc: 0.9331\n",
      "Epoch 6/50\n",
      "15/15 [==============================] - 83s 6s/step - loss: 0.2379 - acc: 0.9214 - val_loss: 0.2069 - val_acc: 0.9331\n",
      "Epoch 7/50\n",
      "15/15 [==============================] - 83s 6s/step - loss: 0.2371 - acc: 0.9072 - val_loss: 0.2005 - val_acc: 0.9372\n",
      "Epoch 8/50\n",
      "15/15 [==============================] - 84s 6s/step - loss: 0.2161 - acc: 0.9236 - val_loss: 0.2118 - val_acc: 0.9414\n",
      "Epoch 9/50\n",
      "15/15 [==============================] - 82s 5s/step - loss: 0.2218 - acc: 0.9214 - val_loss: 0.2134 - val_acc: 0.9289\n",
      "Epoch 10/50\n",
      "15/15 [==============================] - 82s 5s/step - loss: 0.1942 - acc: 0.9356 - val_loss: 0.2251 - val_acc: 0.9289\n",
      "Epoch 11/50\n",
      "15/15 [==============================] - 87s 6s/step - loss: 0.1749 - acc: 0.9301 - val_loss: 0.2104 - val_acc: 0.9498\n",
      "Epoch 12/50\n",
      "15/15 [==============================] - 85s 6s/step - loss: 0.1910 - acc: 0.9421 - val_loss: 0.1788 - val_acc: 0.9372\n",
      "Epoch 13/50\n",
      "15/15 [==============================] - 83s 6s/step - loss: 0.1809 - acc: 0.9389 - val_loss: 0.2225 - val_acc: 0.9372\n",
      "Epoch 14/50\n",
      "15/15 [==============================] - 82s 6s/step - loss: 0.1970 - acc: 0.9203 - val_loss: 0.1737 - val_acc: 0.9456\n",
      "Epoch 15/50\n",
      "15/15 [==============================] - 84s 6s/step - loss: 0.1581 - acc: 0.9476 - val_loss: 0.2328 - val_acc: 0.9205\n",
      "Epoch 16/50\n",
      "15/15 [==============================] - 82s 5s/step - loss: 0.1639 - acc: 0.9432 - val_loss: 0.1831 - val_acc: 0.9372\n",
      "Epoch 17/50\n",
      "15/15 [==============================] - 94s 6s/step - loss: 0.1442 - acc: 0.9469 - val_loss: 0.1639 - val_acc: 0.9456\n",
      "Epoch 18/50\n",
      "15/15 [==============================] - 88s 6s/step - loss: 0.1673 - acc: 0.9367 - val_loss: 0.1552 - val_acc: 0.9372\n",
      "Epoch 19/50\n",
      "15/15 [==============================] - 85s 6s/step - loss: 0.1959 - acc: 0.9279 - val_loss: 0.2045 - val_acc: 0.9247\n",
      "Epoch 20/50\n",
      "15/15 [==============================] - 93s 6s/step - loss: 0.1630 - acc: 0.9356 - val_loss: 0.1527 - val_acc: 0.9456\n",
      "Epoch 21/50\n",
      "15/15 [==============================] - 93s 6s/step - loss: 0.1541 - acc: 0.9509 - val_loss: 0.1407 - val_acc: 0.9540\n",
      "Epoch 22/50\n",
      "15/15 [==============================] - 86s 6s/step - loss: 0.1284 - acc: 0.9520 - val_loss: 0.1605 - val_acc: 0.9456\n",
      "Epoch 23/50\n",
      "15/15 [==============================] - 87s 6s/step - loss: 0.1290 - acc: 0.9487 - val_loss: 0.1399 - val_acc: 0.9498\n",
      "Epoch 24/50\n",
      "15/15 [==============================] - 92s 6s/step - loss: 0.1678 - acc: 0.9443 - val_loss: 0.1340 - val_acc: 0.9414\n",
      "Epoch 25/50\n",
      "15/15 [==============================] - 87s 6s/step - loss: 0.1440 - acc: 0.9498 - val_loss: 0.1509 - val_acc: 0.9414\n",
      "Epoch 26/50\n",
      "15/15 [==============================] - 87s 6s/step - loss: 0.1483 - acc: 0.9476 - val_loss: 0.1473 - val_acc: 0.9331\n",
      "Epoch 27/50\n",
      "15/15 [==============================] - 87s 6s/step - loss: 0.1270 - acc: 0.9552 - val_loss: 0.1442 - val_acc: 0.9456\n",
      "Epoch 28/50\n",
      "15/15 [==============================] - 86s 6s/step - loss: 0.1204 - acc: 0.9574 - val_loss: 0.1592 - val_acc: 0.9414\n",
      "Epoch 29/50\n",
      "15/15 [==============================] - 88s 6s/step - loss: 0.1277 - acc: 0.9487 - val_loss: 0.1379 - val_acc: 0.9498\n",
      "Epoch 30/50\n",
      "15/15 [==============================] - 86s 6s/step - loss: 0.1045 - acc: 0.9672 - val_loss: 0.1494 - val_acc: 0.9540\n",
      "Epoch 31/50\n",
      "15/15 [==============================] - 86s 6s/step - loss: 0.1251 - acc: 0.9596 - val_loss: 0.1399 - val_acc: 0.9540\n",
      "Epoch 32/50\n",
      "15/15 [==============================] - 86s 6s/step - loss: 0.1180 - acc: 0.9552 - val_loss: 0.1403 - val_acc: 0.9582\n",
      "Epoch 33/50\n",
      "15/15 [==============================] - 85s 6s/step - loss: 0.1176 - acc: 0.9563 - val_loss: 0.1447 - val_acc: 0.9498\n",
      "Epoch 34/50\n",
      "15/15 [==============================] - 88s 6s/step - loss: 0.1188 - acc: 0.9618 - val_loss: 0.1528 - val_acc: 0.9372\n",
      "Epoch 35/50\n",
      "15/15 [==============================] - 88s 6s/step - loss: 0.1237 - acc: 0.9487 - val_loss: 0.1869 - val_acc: 0.9456\n",
      "Epoch 36/50\n",
      "15/15 [==============================] - 85s 6s/step - loss: 0.1279 - acc: 0.9498 - val_loss: 0.1486 - val_acc: 0.9289\n",
      "Epoch 37/50\n",
      "15/15 [==============================] - 88s 6s/step - loss: 0.1438 - acc: 0.9438 - val_loss: 0.1519 - val_acc: 0.9540\n",
      "Epoch 38/50\n",
      "15/15 [==============================] - 86s 6s/step - loss: 0.1434 - acc: 0.9541 - val_loss: 0.2131 - val_acc: 0.9331\n",
      "Epoch 39/50\n",
      "15/15 [==============================] - 86s 6s/step - loss: 0.1189 - acc: 0.9596 - val_loss: 0.1395 - val_acc: 0.9456\n",
      "Epoch 40/50\n",
      "15/15 [==============================] - 86s 6s/step - loss: 0.1086 - acc: 0.9607 - val_loss: 0.1495 - val_acc: 0.9456\n",
      "Epoch 41/50\n",
      "15/15 [==============================] - 86s 6s/step - loss: 0.0899 - acc: 0.9672 - val_loss: 0.1486 - val_acc: 0.9540\n",
      "Epoch 42/50\n",
      "15/15 [==============================] - 85s 6s/step - loss: 0.0996 - acc: 0.9651 - val_loss: 0.1664 - val_acc: 0.9414\n",
      "Epoch 43/50\n",
      "15/15 [==============================] - 86s 6s/step - loss: 0.1079 - acc: 0.9574 - val_loss: 0.1378 - val_acc: 0.9498\n",
      "Epoch 44/50\n",
      "15/15 [==============================] - 85s 6s/step - loss: 0.0982 - acc: 0.9607 - val_loss: 0.1468 - val_acc: 0.9456\n",
      "Epoch 45/50\n",
      "15/15 [==============================] - 91s 6s/step - loss: 0.0953 - acc: 0.9677 - val_loss: 0.1525 - val_acc: 0.9456\n",
      "Epoch 46/50\n",
      "15/15 [==============================] - 84s 5s/step - loss: 0.0977 - acc: 0.9662 - val_loss: 0.1371 - val_acc: 0.9498\n",
      "Epoch 47/50\n",
      "15/15 [==============================] - 85s 6s/step - loss: 0.0792 - acc: 0.9716 - val_loss: 0.1391 - val_acc: 0.9540\n",
      "Epoch 48/50\n",
      "15/15 [==============================] - 82s 5s/step - loss: 0.0986 - acc: 0.9651 - val_loss: 0.1393 - val_acc: 0.9498\n",
      "Epoch 49/50\n",
      "15/15 [==============================] - 105s 7s/step - loss: 0.1211 - acc: 0.9541 - val_loss: 0.1711 - val_acc: 0.9456\n",
      "Epoch 50/50\n",
      "15/15 [==============================] - 84s 6s/step - loss: 0.1204 - acc: 0.9672 - val_loss: 0.1327 - val_acc: 0.9498\n"
     ]
    }
   ],
   "source": [
    "# class myCallback(tf.keras.callbacks.Callback):\n",
    "#   def on_epoch_end(self, epoch, logs={}):\n",
    "#     if(logs.get('val_acc')>=0.98):\n",
    "#       print('\\nReached ^98%')\n",
    "#       self.model.stop_training = True\n",
    "# callbacks = myCallback()\n",
    "\n",
    "history = model.fit(\n",
    "    train_generator,\n",
    "    steps_per_epoch = 15,\n",
    "    epochs = 50,\n",
    "    validation_data = validation_generator,\n",
    "    validation_steps = 15\n",
    "    #callbacks=[callbacks]\n",
    ")"
   ]
  },
  {
   "cell_type": "code",
   "execution_count": 9,
   "id": "5bb4e429",
   "metadata": {},
   "outputs": [],
   "source": [
    "model.save('firemodelfinalnew.h5')"
   ]
  },
  {
   "cell_type": "code",
   "execution_count": 4,
   "id": "0c7844ee",
   "metadata": {},
   "outputs": [],
   "source": [
    "model=tf.keras.models.load_model('firemodelfinalnew.h5')\n",
    "history=model"
   ]
  },
  {
   "cell_type": "code",
   "execution_count": 10,
   "id": "d670b8bd",
   "metadata": {},
   "outputs": [
    {
     "data": {
      "image/png": "[encoded data removed]",
      "text/plain": [
       "<Figure size 432x288 with 1 Axes>"
      ]
     },
     "metadata": {
      "needs_background": "light"
     },
     "output_type": "display_data"
    },
    {
     "data": {
      "text/plain": [
       "<Figure size 432x288 with 0 Axes>"
      ]
     },
     "metadata": {},
     "output_type": "display_data"
    },
    {
     "data": {
      "image/png": "[encoded data removed]",
      "text/plain": [
       "<Figure size 432x288 with 1 Axes>"
      ]
     },
     "metadata": {
      "needs_background": "light"
     },
     "output_type": "display_data"
    },
    {
     "data": {
      "text/plain": [
       "<Figure size 432x288 with 0 Axes>"
      ]
     },
     "metadata": {},
     "output_type": "display_data"
    }
   ],
   "source": [
    "%matplotlib inline\n",
    "import matplotlib.pyplot as plt\n",
    "acc = history.history['acc']\n",
    "val_acc = history.history['val_acc']\n",
    "loss = history.history['loss']\n",
    "val_loss = history.history['val_loss']\n",
    "\n",
    "epochs = range(len(acc))\n",
    "\n",
    "plt.plot(epochs, acc, 'g', label='Training accuracy')\n",
    "plt.plot(epochs, val_acc, 'b', label='Validation accuracy')\n",
    "plt.title('Training and validation accuracy')\n",
    "plt.legend(loc=0)\n",
    "plt.figure()\n",
    "plt.show()\n",
    "\n",
    "plt.plot(epochs, loss, 'r', label='Training loss')\n",
    "plt.plot(epochs, val_loss, 'orange', label='Validation loss')\n",
    "plt.title('Training and validation loss')\n",
    "\n",
    "plt.legend(loc=0)\n",
    "plt.figure()\n",
    "plt.show()\n",
    "\n",
    "\n",
    "\n",
    "    \n",
    "\n",
    "    \n",
    "  \n",
    "\n"
   ]
  },
  {
   "cell_type": "code",
   "execution_count": 10,
   "id": "107023f6",
   "metadata": {
    "scrolled": true
   },
   "outputs": [
    {
     "name": "stdout",
     "output_type": "stream",
     "text": [
      "fire\n",
      "fire\n",
      "fire\n",
      "fire\n",
      "fire\n",
      "fire\n",
      "fire\n",
      "fire\n",
      "fire\n",
      "fire\n",
      "fire\n",
      "fire\n",
      "fire\n",
      "fire\n",
      "fire\n",
      "fire\n",
      "fire\n",
      "fire\n",
      "fire\n",
      "fire\n",
      "fire\n",
      "(535, b'5.7.8 Username and Password not accepted. Learn more at\\n5.7.8  https://support.google.com/mail/?p=BadCredentials j13-20020a056a00130d00b004f1025a4361sm14172995pfu.202 - gsmtp')\n",
      "sound palying21\n"
     ]
    }
   ],
   "source": [
    "import numpy as np\n",
    "import files\n",
    "from keras.preprocessing import image\n",
    "import cv2\n",
    "import smtplib\n",
    "import winsound\n",
    "import playsound\n",
    " \n",
    "def send_mail_function():\n",
    "    recipientEmail = \"psingh150101.2022@gmail.com\"\n",
    "    recipientEmail = recipientEmail.lower()\n",
    "\n",
    "    try:\n",
    "        server = smtplib.SMTP('smtp.gmail.com', 587)\n",
    "        server.ehlo()\n",
    "        server.starttls()\n",
    "        server.login(\"psingh150101.2021@gmail.com\",'@PradhumanP@15')\n",
    "        server.sendmail('psingh150101.2022@gmail.com', recipientEmail, \"Warning A Fire Accident has been reported.\")\n",
    "        print(\"sent to {}\".format(recipientEmail))\n",
    "        server.close()\n",
    "    except Exception as e:\n",
    "        print(e)\n",
    "\n",
    "\n",
    "\n",
    "\n",
    "# Opens the camera\n",
    "cap= cv2.VideoCapture(0)\n",
    "i=0\n",
    "counter=0\n",
    "while(cap.isOpened()):\n",
    "    ret, frame = cap.read()\n",
    "    img = cv2.resize(frame, (224, 224))\n",
    "    #if ret == False:\n",
    "       # break\n",
    "    #cv2.imwrite('fire'+str(i)+'.jpg',frame)\n",
    "\n",
    "    #path ='fire'+str(i)+'.jpg'\n",
    "    #img = image.load_img(path, target_size=(224, 224))\n",
    "    x = image.img_to_array(img)\n",
    "    x = np.expand_dims(x, axis=0) /255\n",
    "    classes = model.predict(x)\n",
    "    #print(np.argmax(classes[0])==0, max(classes[0]))\n",
    "    if(classes[0][0]>classes[0][1]):\n",
    "        print('no fire')\n",
    "        \n",
    "        image_path = r'C:\\Users\\psing\\Music\\python projects\\fire detection both\\fire-detection-master\\outputimages\\no fire'+str(i)+'.jpg'\n",
    "        cv2.imwrite(image_path,frame)\n",
    "    else:\n",
    "        print('fire')\n",
    "        counter=counter+1\n",
    "        if(counter>20):\n",
    "            winsound.PlaySound('alarm.wav', winsound.SND_FILENAME)\n",
    "            send_mail_function()\n",
    "            print('sound playing'+ str(counter))\n",
    "            counter=0\n",
    "\n",
    "       \n",
    "        image_path = r'C:\\Users\\psing\\Music\\python projects\\fire detection both\\fire-detection-master\\outputimages\\fire'+str(i)+'.jpg'\n",
    "        cv2.imwrite(image_path,frame)\n",
    "    i+=1\n",
    "    cv2.imshow(\"output\", frame)\n",
    "    if cv2.waitKey(1) & 0xFF == ord('q'):\n",
    "        break  \n",
    "\n",
    "cap.release()\n",
    "cv2.destroyAllWindows()\n"
   ]
  },
  {
   "cell_type": "code",
   "execution_count": null,
   "id": "f208795c",
   "metadata": {},
   "outputs": [],
   "source": []
  },
  {
   "cell_type": "code",
   "execution_count": null,
   "id": "788b6696",
   "metadata": {},
   "outputs": [],
   "source": []
  }
 ],
 "metadata": {
  "kernelspec": {
   "display_name": "Python 3 (ipykernel)",
   "language": "python",
   "name": "python3"
  },
  "language_info": {
   "codemirror_mode": {
    "name": "ipython",
    "version": 3
   },
   "file_extension": ".py",
   "mimetype": "text/x-python",
   "name": "python",
   "nbconvert_exporter": "python",
   "pygments_lexer": "ipython3",
   "version": "3.9.7"
  }
 },
 "nbformat": 4,
 "nbformat_minor": 5
}
